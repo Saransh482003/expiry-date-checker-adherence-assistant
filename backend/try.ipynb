{
 "cells": [
  {
   "cell_type": "code",
   "execution_count": 1,
   "id": "855cb67b",
   "metadata": {},
   "outputs": [],
   "source": [
    "import requests"
   ]
  },
  {
   "cell_type": "code",
   "execution_count": null,
   "id": "17ffa419",
   "metadata": {},
   "outputs": [],
   "source": [
    "url = \"http://YOUR_PHONE_IP:PORT/api/send\"\n",
    "payload = {\n",
    "    \"to\": \"+911234567890\",\n",
    "    \"message\": \"Hello from Python via TextBee!\"\n",
    "}\n",
    "response = requests.post(url, json=payload)\n",
    "print(response.json())"
   ]
  },
  {
   "cell_type": "code",
   "execution_count": 2,
   "id": "97f38d6e",
   "metadata": {},
   "outputs": [],
   "source": [
    "\n",
    "import pywhatkit\n",
    "\n",
    "# send a WhatsApp message\n",
    "pywhatkit.sendwhatmsg_instantly(\n",
    "    phone_no=\"+919958321294\",\n",
    "    message=\"Take your medicine now!\",\n",
    "    wait_time=10  # seconds to wait before sending\n",
    ")"
   ]
  },
  {
   "cell_type": "code",
   "execution_count": null,
   "id": "b9dfe204",
   "metadata": {},
   "outputs": [],
   "source": []
  }
 ],
 "metadata": {
  "kernelspec": {
   "display_name": "env",
   "language": "python",
   "name": "python3"
  },
  "language_info": {
   "codemirror_mode": {
    "name": "ipython",
    "version": 3
   },
   "file_extension": ".py",
   "mimetype": "text/x-python",
   "name": "python",
   "nbconvert_exporter": "python",
   "pygments_lexer": "ipython3",
   "version": "3.11.4"
  }
 },
 "nbformat": 4,
 "nbformat_minor": 5
}
